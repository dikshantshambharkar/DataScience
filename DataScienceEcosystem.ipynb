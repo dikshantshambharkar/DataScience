{
  "nbformat": 4,
  "nbformat_minor": 0,
  "metadata": {
    "colab": {
      "provenance": []
    },
    "kernelspec": {
      "name": "python3",
      "display_name": "Python 3"
    },
    "language_info": {
      "name": "python"
    }
  },
  "cells": [
    {
      "cell_type": "markdown",
      "source": [
        "#Data Science Tools and Ecosystem\n"
      ],
      "metadata": {
        "id": "llIbAaY7IxZ5"
      }
    },
    {
      "cell_type": "markdown",
      "source": [
        "**Objectives:**\n",
        "*   List popular languages for Data Science\n",
        "*   List commonly used libraries by Data Scientist\n",
        "*   List Data Science Tools\n",
        "*   Write some arithmetic expressions in python"
      ],
      "metadata": {
        "id": "2L-uktVoY1LO"
      }
    },
    {
      "cell_type": "markdown",
      "source": [
        "##Author\n",
        "Dikshant Shambharkar"
      ],
      "metadata": {
        "id": "UJfyYrkbaADd"
      }
    },
    {
      "cell_type": "markdown",
      "source": [
        "In this notebook, Data Science Tools and Ecosystem are summarized.\n",
        "\n",
        "\n"
      ],
      "metadata": {
        "id": "u926x_-iJPjg"
      }
    },
    {
      "cell_type": "markdown",
      "source": [
        "Some of the popular languages that Data Scientists use are:\n",
        "1. python\n",
        "2. R language\n",
        "3. Julia\n",
        "4. Java"
      ],
      "metadata": {
        "id": "3judw1YrVKTK"
      }
    },
    {
      "cell_type": "markdown",
      "source": [
        "Some of the commonly used libraries used by Data Scientists include:\n",
        "1. Scikit-learn\n",
        "2. Tensorflow\n",
        "3. Caffe\n",
        "4. Pytorch"
      ],
      "metadata": {
        "id": "sAFUvvfEf1Tm"
      }
    },
    {
      "cell_type": "markdown",
      "source": [
        "\n",
        "| Data Science Tools |\n",
        "| --- |\n",
        "| Pytorch |\n",
        "| Tensorflow |\n",
        "| Hadoop |\n"
      ],
      "metadata": {
        "id": "sf-XKiZrofnv"
      }
    },
    {
      "cell_type": "markdown",
      "source": [
        "###Below are a few examples of evaluating arithmetic expressions in Python\n"
      ],
      "metadata": {
        "id": "H7fWZdYHXltZ"
      }
    },
    {
      "cell_type": "code",
      "source": [
        "#This a simple arithmetic expression to mutiply then add integers\n",
        "a = (3*4)+5\n",
        "a\n"
      ],
      "metadata": {
        "colab": {
          "base_uri": "https://localhost:8080/"
        },
        "id": "WAaC8wsmX6_x",
        "outputId": "12e9b702-d0b2-4386-a610-e6a8cb603920"
      },
      "execution_count": null,
      "outputs": [
        {
          "output_type": "execute_result",
          "data": {
            "text/plain": [
              "17"
            ]
          },
          "metadata": {},
          "execution_count": 1
        }
      ]
    },
    {
      "cell_type": "code",
      "source": [
        "#This will convert 200 minutes to hours by diving by 60\n",
        "m = 200\n",
        "h = m/60\n",
        "h"
      ],
      "metadata": {
        "colab": {
          "base_uri": "https://localhost:8080/"
        },
        "id": "EnHj71-MYVvZ",
        "outputId": "31a91708-71af-4bc9-da13-81d56d2ecff5"
      },
      "execution_count": null,
      "outputs": [
        {
          "output_type": "execute_result",
          "data": {
            "text/plain": [
              "3.3333333333333335"
            ]
          },
          "metadata": {},
          "execution_count": 2
        }
      ]
    }
  ]
}